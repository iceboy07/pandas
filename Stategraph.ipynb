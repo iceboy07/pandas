{
 "cells": [
  {
   "cell_type": "code",
   "execution_count": 1,
   "metadata": {},
   "outputs": [],
   "source": [
    "import pandas as pd\n",
    "import numpy as np\n",
    "import matplotlib.pyplot as plt"
   ]
  },
  {
   "cell_type": "code",
   "execution_count": 2,
   "metadata": {},
   "outputs": [],
   "source": [
    "Hosp_info=pd.read_csv('/home/iceboy/Documents/dataframe/HospInfo.csv')\n"
   ]
  },
  {
   "cell_type": "code",
   "execution_count": 5,
   "metadata": {},
   "outputs": [],
   "source": [
    "delt = Hosp_info[(Hosp_info['Hospital_rating']=='Not Available') | (Hosp_info['Efficient use of medical imaging national comparison']=='Not Available') | (Hosp_info['Patient experience national comparison']=='Not Available') | (Hosp_info['Mortality national comparison']==\"Not Available\") | (Hosp_info['Safety of care national comparison']==\"Not Available\")].index\n",
    "Hosp_info.drop(delt, inplace=True)\n",
    "Hosp_info.drop([\"Timeliness of care national comparison footnote\",\"Hospital overall rating footnote\",\"Mortality national comparison footnote\",\"Safety of care national comparison footnote\",\"Readmission national comparison footnote\",\"Patient experience national comparison footnote\",\"Effectiveness of care national comparison footnote\",\"Timeliness of care national comparison footnote\",\"Efficient use of medical imaging national comparison footnote\",\"Location\"],axis = 1,inplace=True)"
   ]
  },
  {
   "cell_type": "code",
   "execution_count": 7,
   "metadata": {},
   "outputs": [
    {
     "name": "stdin",
     "output_type": "stream",
     "text": [
      "Enter the state Initial:   AK\n"
     ]
    },
    {
     "name": "stdout",
     "output_type": "stream",
     "text": [
      "                          Hospital Name         Hospital Type  \\\n",
      "89     PROVIDENCE ALASKA MEDICAL CENTER  Acute Care Hospitals   \n",
      "90       MAT-SU REGIONAL MEDICAL CENTER  Acute Care Hospitals   \n",
      "92          FAIRBANKS MEMORIAL HOSPITAL  Acute Care Hospitals   \n",
      "919  CENTRAL PENINSULA GENERAL HOSPITAL  Acute Care Hospitals   \n",
      "\n",
      "                 Hospital_Ownership Hospital_rating  Phone Number  \\\n",
      "89    Voluntary non-profit - Church               3    9075622211   \n",
      "90   Voluntary non-profit - Private               3    9078616000   \n",
      "92     Voluntary non-profit - Other               3    9074528181   \n",
      "919    Voluntary non-profit - Other               3    9072624404   \n",
      "\n",
      "                       Address  \n",
      "89       3200 PROVIDENCE DRIVE  \n",
      "90   2500 SOUTH WOODWORTH LOOP  \n",
      "92          1650 COWLES STREET  \n",
      "919         250 HOSPITAL PLACE  \n"
     ]
    }
   ],
   "source": [
    "S_name=input(\"Enter the state Initial:  \")\n",
    "Stat=Hosp_info[Hosp_info.State==S_name][['Hospital Name','Hospital Type','Hospital_Ownership','Hospital_rating','Phone Number','Address']]\n",
    "print(Stat)"
   ]
  },
  {
   "cell_type": "code",
   "execution_count": 8,
   "metadata": {},
   "outputs": [
    {
     "data": {
      "image/png": "[encoded data removed]",
      "text/plain": [
       "<Figure size 432x288 with 1 Axes>"
      ]
     },
     "metadata": {
      "needs_background": "light"
     },
     "output_type": "display_data"
    }
   ],
   "source": [
    "State_wise=Hosp_info.groupby('State').count()[['Provider ID']].plot(kind='bar')\n",
    "plt.show()"
   ]
  },
  {
   "cell_type": "code",
   "execution_count": null,
   "metadata": {},
   "outputs": [],
   "source": []
  }
 ],
 "metadata": {
  "kernelspec": {
   "display_name": "Python 3",
   "language": "python",
   "name": "python3"
  },
  "language_info": {
   "codemirror_mode": {
    "name": "ipython",
    "version": 3
   },
   "file_extension": ".py",
   "mimetype": "text/x-python",
   "name": "python",
   "nbconvert_exporter": "python",
   "pygments_lexer": "ipython3",
   "version": "3.7.3"
  }
 },
 "nbformat": 4,
 "nbformat_minor": 4
}
